{
 "cells": [
  {
   "cell_type": "code",
   "execution_count": 1,
   "metadata": {
    "collapsed": false
   },
   "outputs": [
    {
     "name": "stdout",
     "output_type": "stream",
     "text": [
      "Extracting MNIST_data/train-images-idx3-ubyte.gz\n",
      "Extracting MNIST_data/train-labels-idx1-ubyte.gz\n",
      "Extracting MNIST_data/t10k-images-idx3-ubyte.gz\n",
      "Extracting MNIST_data/t10k-labels-idx1-ubyte.gz\n"
     ]
    }
   ],
   "source": [
    "from tensorflow.examples.tutorials.mnist import input_data\n",
    "\n",
    "mnist = input_data.read_data_sets(\"MNIST_data/\", one_hot=True)"
   ]
  },
  {
   "cell_type": "markdown",
   "metadata": {},
   "source": [
    "### Helper Functions"
   ]
  },
  {
   "cell_type": "code",
   "execution_count": 2,
   "metadata": {
    "collapsed": false
   },
   "outputs": [],
   "source": [
    "import tensorflow as tf\n",
    "\n",
    "def weight_variable(shape):\n",
    "    initial = tf.truncated_normal(shape, stddev=0.1)\n",
    "    \n",
    "    return tf.Variable(initial)\n",
    "\n",
    "def bias_variable(shape):\n",
    "    initial = tf.constant(0.1, shape=shape)\n",
    "    \n",
    "    return tf.Variable(initial)\n",
    "\n",
    "def conv2d(x, W):\n",
    "    \n",
    "    return tf.nn.conv2d(x, W, strides=[1, 1, 1, 1], padding='SAME')\n",
    "\n",
    "def max_pool_2x2(x):\n",
    "    \n",
    "    return tf.nn.max_pool(x, ksize=[1, 2, 2, 1],\n",
    "                          strides=[1, 2, 2, 1], padding='SAME')"
   ]
  },
  {
   "cell_type": "markdown",
   "metadata": {},
   "source": [
    "### Model"
   ]
  },
  {
   "cell_type": "code",
   "execution_count": 3,
   "metadata": {
    "collapsed": false
   },
   "outputs": [],
   "source": [
    "# reshape\n",
    "x = tf.placeholder('float', shape=[None, 784])\n",
    "x_image = tf.reshape(x, [-1, 28, 28, 1])\n",
    "\n",
    "# conv\n",
    "W_conv1 = weight_variable([5, 5, 1, 32])\n",
    "b_conv1 = bias_variable([32])\n",
    "z_conv1 = conv2d(x_image, W_conv1) + b_conv1\n",
    "\n",
    "# relu -> pool\n",
    "h_conv1 = tf.nn.relu(z_conv1)\n",
    "h_pool1 = max_pool_2x2(h_conv1)\n",
    "\n",
    "# conv\n",
    "W_conv2 = weight_variable([5, 5, 32, 64])\n",
    "b_conv2 = bias_variable([64])\n",
    "z_conv2 = conv2d(h_pool1, W_conv2) + b_conv2\n",
    "\n",
    "# relu -> pool\n",
    "h_conv2 = tf.nn.relu(z_conv2)\n",
    "h_pool2 = max_pool_2x2(h_conv2)\n",
    "\n",
    "# reshape -> fc\n",
    "h_pool2_flat = tf.reshape(h_pool2, [-1, 7*7*64])\n",
    "W_fc1 = weight_variable([7 * 7 * 64, 1024])\n",
    "b_fc1 = bias_variable([1024])\n",
    "z_fc1 = tf.matmul(h_pool2_flat, W_fc1) + b_fc1\n",
    "\n",
    "# relu\n",
    "h_fc1 = tf.nn.relu(z_fc1)\n",
    "\n",
    "# dropout\n",
    "keep_prob = tf.placeholder('float')\n",
    "h_fc1_drop = tf.nn.dropout(h_fc1, keep_prob)\n",
    "\n",
    "# softmax weights\n",
    "W_fc2 = weight_variable([1024, 10])\n",
    "b_fc2 = bias_variable([10])\n",
    "scores = tf.matmul(h_fc1_drop, W_fc2) + b_fc2\n",
    "\n",
    "# softmax + cross-entropy\n",
    "probs = tf.nn.softmax(scores)\n",
    "y = tf.placeholder('float', shape=[None, 10])\n",
    "cross_entropy = -tf.reduce_sum(y*tf.log(probs))\n",
    "\n",
    "# evaluation\n",
    "correct_predictions = tf.equal(tf.argmax(probs, 1), tf.argmax(y, 1))\n",
    "accuracy = tf.reduce_mean(tf.cast(correct_predictions, 'float'))"
   ]
  },
  {
   "cell_type": "markdown",
   "metadata": {},
   "source": [
    "### Train"
   ]
  },
  {
   "cell_type": "code",
   "execution_count": 23,
   "metadata": {
    "collapsed": false
   },
   "outputs": [
    {
     "name": "stdout",
     "output_type": "stream",
     "text": [
      "step 0: training accuracy = 0.0799999982119\n",
      "step 100: training accuracy = 0.839999973774\n",
      "step 200: training accuracy = 0.920000016689\n",
      "step 300: training accuracy = 0.839999973774\n",
      "step 400: training accuracy = 0.839999973774\n",
      "step 500: training accuracy = 0.959999978542\n",
      "step 600: training accuracy = 0.959999978542\n",
      "step 700: training accuracy = 0.920000016689\n",
      "step 800: training accuracy = 0.920000016689\n",
      "step 900: training accuracy = 0.959999978542\n",
      "step 1000: training accuracy = 0.920000016689\n",
      "step 1100: training accuracy = 0.959999978542\n",
      "step 1200: training accuracy = 0.959999978542\n",
      "step 1300: training accuracy = 0.959999978542\n",
      "step 1400: training accuracy = 0.980000019073\n",
      "step 1500: training accuracy = 1.0\n",
      "step 1600: training accuracy = 0.980000019073\n",
      "step 1700: training accuracy = 0.980000019073\n",
      "step 1800: training accuracy = 1.0\n",
      "step 1900: training accuracy = 0.980000019073\n"
     ]
    }
   ],
   "source": [
    "sess = tf.InteractiveSession()\n",
    "\n",
    "train_step = tf.train.AdamOptimizer(1e-4).minimize(cross_entropy)\n",
    "\n",
    "init = tf.initialize_all_variables()\n",
    "sess.run(init)\n",
    "\n",
    "def train(iters=2000):\n",
    "    for i in range(iters):\n",
    "        batch_xs, batch_ys = mnist.train.next_batch(50)\n",
    "        if not i % 100:\n",
    "            train_accuracy = accuracy.eval(feed_dict={x: batch_xs, y: batch_ys, keep_prob: 1.0})\n",
    "            print 'step {}: training accuracy = {}'.format(i, train_accuracy)\n",
    "            \n",
    "            yield train_accuracy\n",
    "\n",
    "        train_step.run(feed_dict={x: batch_xs, y: batch_ys, keep_prob: 0.5})\n",
    "    \n",
    "train_accuracies = list(train())"
   ]
  },
  {
   "cell_type": "markdown",
   "metadata": {},
   "source": [
    "### Plot"
   ]
  },
  {
   "cell_type": "code",
   "execution_count": 25,
   "metadata": {
    "collapsed": false
   },
   "outputs": [
    {
     "data": {
      "text/plain": [
       "<matplotlib.axes._subplots.AxesSubplot at 0x7f899a552210>"
      ]
     },
     "execution_count": 25,
     "metadata": {},
     "output_type": "execute_result"
    },
    {
     "data": {
      "image/png": "[encoded data removed]",
      "text/plain": [
       "<matplotlib.figure.Figure at 0x7f899a431fd0>"
      ]
     },
     "metadata": {},
     "output_type": "display_data"
    }
   ],
   "source": [
    "df = pd.DataFrame(train_accuracies, columns=['accuracy'])\n",
    "df.index.name = 'iters'\n",
    "\n",
    "df.plot()"
   ]
  },
  {
   "cell_type": "markdown",
   "metadata": {},
   "source": [
    "### Evaluate on Test Set"
   ]
  },
  {
   "cell_type": "code",
   "execution_count": 26,
   "metadata": {
    "collapsed": false
   },
   "outputs": [
    {
     "data": {
      "text/plain": [
       "0.977"
      ]
     },
     "execution_count": 26,
     "metadata": {},
     "output_type": "execute_result"
    }
   ],
   "source": [
    "accuracy.eval(feed_dict={x: mnist.test.images, y: mnist.test.labels, keep_prob: 1.0})"
   ]
  }
 ],
 "metadata": {
  "kernelspec": {
   "display_name": "Python 2",
   "language": "python",
   "name": "python2"
  },
  "language_info": {
   "codemirror_mode": {
    "name": "ipython",
    "version": 2
   },
   "file_extension": ".py",
   "mimetype": "text/x-python",
   "name": "python",
   "nbconvert_exporter": "python",
   "pygments_lexer": "ipython2",
   "version": "2.7.11"
  }
 },
 "nbformat": 4,
 "nbformat_minor": 0
}
